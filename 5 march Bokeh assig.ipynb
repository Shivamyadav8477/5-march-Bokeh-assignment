{
 "cells": [
  {
   "cell_type": "code",
   "execution_count": null,
   "id": "7cd56317-494b-40eb-9a4c-7eb467b73e94",
   "metadata": {},
   "outputs": [],
   "source": [
    "Q1. How can you create a Bokeh plot using Python code?"
   ]
  },
  {
   "cell_type": "code",
   "execution_count": null,
   "id": "7f0a3c37-a100-4e9c-8e86-c74cc641a136",
   "metadata": {},
   "outputs": [],
   "source": [
    "To create a Bokeh plot using Python code, you'll typically follow these steps:\n",
    "\n",
    "Install Bokeh: If you haven't already, install the Bokeh library using pip:"
   ]
  },
  {
   "cell_type": "code",
   "execution_count": null,
   "id": "7ea41a81-9406-4601-8e3a-078a496fc823",
   "metadata": {},
   "outputs": [],
   "source": [
    "pip install bokeh\n"
   ]
  },
  {
   "cell_type": "code",
   "execution_count": null,
   "id": "f4d3c452-3fcb-4c1c-b8de-d0642cfb179c",
   "metadata": {},
   "outputs": [],
   "source": [
    "Import Bokeh: Import the necessary modules from the Bokeh library in your Python script.\n",
    "\n",
    "Prepare Data: Prepare the data you want to plot. This could be in the form of Python lists, NumPy arrays, or Pandas DataFrames, depending on your data source.\n",
    "\n",
    "Create a Figure: Create a Bokeh figure using figure() or other figure constructors. Specify the plot's title, labels, and other attributes.\n",
    "\n",
    "Add Glyphs: Add glyphs (such as circles, lines, or bars) to the figure to represent your data. You can use functions like circle(), line(), or rect() to add different types of plots.\n",
    "\n",
    "Customize the Plot: Customize the appearance of the plot by modifying properties of the figure, glyphs, and axes. You can change colors, markers, and other visual aspects.\n",
    "\n",
    "Add Interactivity (Optional): Bokeh allows you to add interactivity to your plot. You can create interactive tools, tooltips, and widgets to enhance user experience.\n",
    "\n",
    "Show or Save the Plot: Finally, use the show() function to display the plot in a web browser or use save() to save the plot as an HTML file.\n",
    "\n",
    "Here's a simplified example of creating a basic scatter plot using Bokeh:"
   ]
  },
  {
   "cell_type": "code",
   "execution_count": 1,
   "id": "8278f6d1-811f-4fcf-a77d-b18081ffc09a",
   "metadata": {},
   "outputs": [],
   "source": [
    "from bokeh.plotting import figure, show\n",
    "\n",
    "# Sample data\n",
    "x = [1, 2, 3, 4, 5]\n",
    "y = [6, 7, 2, 4, 5]\n",
    "\n",
    "# Create a Bokeh figure\n",
    "p = figure(title=\"Scatter Plot Example\", x_axis_label=\"X-axis\", y_axis_label=\"Y-axis\")\n",
    "\n",
    "# Add glyphs to the figure\n",
    "p.circle(x, y, size=10, color=\"navy\", alpha=0.5)\n",
    "\n",
    "# Show the plot\n",
    "show(p)\n"
   ]
  },
  {
   "cell_type": "code",
   "execution_count": null,
   "id": "bc6b5c88-9fae-43f0-9d42-e4b4ab409f8e",
   "metadata": {},
   "outputs": [],
   "source": [
    "Q2. What are glyphs in Bokeh, and how can you add them to a Bokeh plot? Explain with an example."
   ]
  },
  {
   "cell_type": "code",
   "execution_count": null,
   "id": "38455bee-af2c-4e12-8552-a6a067e24fc3",
   "metadata": {},
   "outputs": [],
   "source": [
    "Glyphs in Bokeh are visual elements that represent data in a plot. Glyphs can take various forms, such as circles, lines, bars, rectangles, patches, and more, and they allow you to visually encode data points or patterns in your plots. Glyphs are added to a Bokeh plot using specific glyph functions provided by Bokeh, such as circle(), line(), rect(), patch(), and so on.\n",
    "\n",
    "Here's an example of how to add glyphs to a Bokeh plot:"
   ]
  },
  {
   "cell_type": "code",
   "execution_count": 2,
   "id": "a46d2cd6-be37-41a2-af3f-80f22b54c553",
   "metadata": {},
   "outputs": [],
   "source": [
    "from bokeh.plotting import figure, show\n",
    "\n",
    "# Sample data\n",
    "x = [1, 2, 3, 4, 5]\n",
    "y = [6, 7, 2, 4, 5]\n",
    "\n",
    "# Create a Bokeh figure\n",
    "p = figure(title=\"Glyphs Example\", x_axis_label=\"X-axis\", y_axis_label=\"Y-axis\")\n",
    "\n",
    "# Add glyphs to the figure\n",
    "p.circle(x, y, size=10, color=\"navy\", alpha=0.5)  # Add circles as glyphs\n",
    "\n",
    "# Show the plot\n",
    "show(p)\n",
    "\n"
   ]
  },
  {
   "cell_type": "code",
   "execution_count": null,
   "id": "6687585c-1c6b-4d02-a532-f464c8d607a6",
   "metadata": {},
   "outputs": [],
   "source": [
    "In this example:\n",
    "\n",
    "We create a Bokeh figure using figure(), specifying the title and axis labels.\n",
    "\n",
    "We add circles as glyphs to the figure using p.circle(). The x and y arrays represent the data points to be plotted. Additional attributes such as size, color, and alpha customize the appearance of the glyphs.\n",
    "\n",
    "Finally, we display the plot using show(p).\n",
    "\n",
    "In this case, we added circle glyphs to create a scatter plot. You can use other glyph functions like line() for line plots, rect() for rectangles, patch() for arbitrary polygons, and more to create different types of visualizations in Bokeh.\n",
    "\n",
    "Glyphs can also be customized with various properties and attributes to control their appearance, such as size, color, line style, and markers, making it possible to create complex and customized plots in Bokeh."
   ]
  },
  {
   "cell_type": "code",
   "execution_count": null,
   "id": "d806f585-b4eb-4d54-a208-984bdb4c6a5b",
   "metadata": {},
   "outputs": [],
   "source": [
    "Q3. How can you customize the appearance of a Bokeh plot, including the axes, title, and legend?"
   ]
  },
  {
   "cell_type": "code",
   "execution_count": null,
   "id": "d565f0e4-714c-4105-a7b0-e50a49d50dc4",
   "metadata": {},
   "outputs": [],
   "source": [
    "\n",
    "You can customize the appearance of a Bokeh plot, including the axes, title, and legend, by modifying various properties and attributes of the plot objects. Here are some common customizations you can mak"
   ]
  },
  {
   "cell_type": "code",
   "execution_count": null,
   "id": "589c2738-2370-49c1-9e91-c71c5bbd4b23",
   "metadata": {},
   "outputs": [],
   "source": [
    "Customize Plot Title and Labels:\n",
    "\n",
    "To set the title of the plot, use the title attribute of the figure.\n",
    "To set the labels for the x-axis and y-axis, use x_axis_label and y_axis_label attributes of the figure.\n",
    "Example:"
   ]
  },
  {
   "cell_type": "code",
   "execution_count": null,
   "id": "297375ac-9178-48b9-965a-1924179a43e7",
   "metadata": {},
   "outputs": [],
   "source": [
    "p = figure(title=\"Customized Plot\", x_axis_label=\"X-axis Label\", y_axis_label=\"Y-axis Label\")\n"
   ]
  },
  {
   "cell_type": "code",
   "execution_count": null,
   "id": "b62d2d82-2ee1-4f44-8bb7-67c798e40906",
   "metadata": {},
   "outputs": [],
   "source": [
    "Customize Axes:\n",
    "\n",
    "You can customize the appearance of the axes, including axis labels, tick labels, and axis range.\n",
    "To set the range of the x-axis and y-axis, use the x_range and y_range attributes.\n",
    "Example:"
   ]
  },
  {
   "cell_type": "code",
   "execution_count": null,
   "id": "f6503891-8fb5-4d1a-a241-7a39c9e37537",
   "metadata": {},
   "outputs": [],
   "source": [
    "p.x_range.start = 0\n",
    "p.x_range.end = 10\n"
   ]
  },
  {
   "cell_type": "code",
   "execution_count": null,
   "id": "a9391eda-592f-441f-8f54-e027f2bd8432",
   "metadata": {},
   "outputs": [],
   "source": [
    "Customize Legend:\n",
    "\n",
    "If you have multiple glyphs and want to add a legend, set the legend_label parameter when adding glyphs.\n",
    "To display the legend, use the legend attribute of the figure.\n",
    "Example:"
   ]
  },
  {
   "cell_type": "code",
   "execution_count": null,
   "id": "185e4c93-4611-469f-aca3-9ae33a41f09f",
   "metadata": {},
   "outputs": [],
   "source": [
    "p.circle(x, y, size=10, color=\"navy\", alpha=0.5, legend_label=\"Data Points\")\n",
    "p.legend.title = \"Legend Title\"\n"
   ]
  },
  {
   "cell_type": "code",
   "execution_count": null,
   "id": "93775263-8479-4c18-b052-5039280d6591",
   "metadata": {},
   "outputs": [],
   "source": [
    "Customize Glyph Appearance:\n",
    "\n",
    "You can customize glyph appearance by specifying attributes like size, color, line_color, fill_color, line_width, and alpha when adding glyphs.\n",
    "Example:"
   ]
  },
  {
   "cell_type": "code",
   "execution_count": null,
   "id": "966ef4ac-97c0-4365-a3e2-02f8060d08fa",
   "metadata": {},
   "outputs": [],
   "source": [
    "p.circle(x, y, size=10, color=\"navy\", alpha=0.5)\n"
   ]
  },
  {
   "cell_type": "code",
   "execution_count": null,
   "id": "64ba519f-c473-41a0-89bc-a0095bd98563",
   "metadata": {},
   "outputs": [],
   "source": [
    "Customize Background and Gridlines:\n",
    "\n",
    "You can customize the background color and gridlines of the plot using attributes like background_fill_color, border_fill_color, and grid.\n",
    "Example:"
   ]
  },
  {
   "cell_type": "code",
   "execution_count": null,
   "id": "c9fb0fe4-62ce-4133-9f49-e86f7d98403c",
   "metadata": {},
   "outputs": [],
   "source": [
    "p.background_fill_color = \"lightgray\"\n",
    "p.grid.visible = True\n"
   ]
  },
  {
   "cell_type": "code",
   "execution_count": null,
   "id": "13270998-0e84-47a8-80f3-2c32ea9cb924",
   "metadata": {},
   "outputs": [],
   "source": [
    "Customize Legend Position:\n",
    "\n",
    "To set the position of the legend, use the legend_location attribute of the figure.\n",
    "Example:"
   ]
  },
  {
   "cell_type": "code",
   "execution_count": null,
   "id": "69a54d21-469e-4d9b-bcbe-cf29cec87823",
   "metadata": {},
   "outputs": [],
   "source": [
    "p.legend.location = \"top_left\"\n"
   ]
  },
  {
   "cell_type": "code",
   "execution_count": null,
   "id": "c6a227e4-3b54-4b73-9842-53edb0e7494d",
   "metadata": {},
   "outputs": [],
   "source": [
    "Customize Plot Size:\n",
    "\n",
    "You can set the width and height of the plot using the width and height attributes of the figure.\n",
    "Example"
   ]
  },
  {
   "cell_type": "code",
   "execution_count": null,
   "id": "4addeec0-130c-4496-830a-d98dfa851c42",
   "metadata": {},
   "outputs": [],
   "source": [
    "p.width = 800\n",
    "p.height = 400\n"
   ]
  },
  {
   "cell_type": "code",
   "execution_count": null,
   "id": "ae60f329-4077-49cb-9050-20a580e8fa8c",
   "metadata": {},
   "outputs": [],
   "source": [
    "Customize Ticks:\n",
    "\n",
    "You can customize tick properties, such as tick labels and tick locations, using attributes like xaxis.major_label_orientation, xaxis.ticker, and xaxis.major_label_text_color.\n",
    "Example:"
   ]
  },
  {
   "cell_type": "code",
   "execution_count": null,
   "id": "a58df7c7-f1c2-415d-a2cd-3575ad644b57",
   "metadata": {},
   "outputs": [],
   "source": [
    "p.xaxis.major_label_orientation = \"vertical\"\n",
    "p.xaxis.major_label_text_color = \"red\"\n"
   ]
  },
  {
   "cell_type": "code",
   "execution_count": null,
   "id": "a10ec024-7603-4712-9c8c-a2295a67295e",
   "metadata": {},
   "outputs": [],
   "source": [
    "Q4. What is a Bokeh server, and how can you use it to create interactive plots that can be updated in\n",
    "real time?"
   ]
  },
  {
   "cell_type": "code",
   "execution_count": null,
   "id": "d49fe7a6-02c5-4e8c-9a66-0586bd03ccc4",
   "metadata": {},
   "outputs": [],
   "source": [
    "A Bokeh server is a component of the Bokeh library that allows you to create interactive web applications with real-time updates and two-way communication between the Python server and the web browser. It enables the creation of dynamic and responsive data visualizations that can be updated based on user interactions or streaming data sources.\n",
    "\n",
    "Key features and concepts related to the Bokeh server include:\n",
    "\n",
    "Applications: Bokeh server applications are Python scripts that define the layout and behavior of interactive web apps. These apps can contain Bokeh plots, widgets, and other user interface components.\n",
    "\n",
    "Document: A Bokeh server application operates on a Bokeh Document, which is a data structure that represents the state of the app. The document includes the layout, data, and interactions defined in the application script.\n",
    "\n",
    "Callbacks: Callbacks are Python functions that specify how the app responds to user interactions or changes in data. You can define callbacks to update the document and trigger changes in the visualizations.\n",
    "\n",
    "Sessions: Bokeh server applications run in the context of a session. Sessions can be thought of as individual instances of an app running in a web browser. Multiple users can have their own sessions, and each session has its own document.\n",
    "\n",
    "Widgets: Bokeh provides a range of widgets (e.g., sliders, buttons, dropdowns) that allow users to interact with the app. You can link these widgets to callbacks to create interactive behavior.\n",
    "\n",
    "Here's a general process of using the Bokeh server to create interactive plots that can be updated in real time:\n",
    "\n",
    "Define a Bokeh server application by creating a Python script that imports Bokeh modules and defines the layout of the app, including plots, widgets, and interactions.\n",
    "\n",
    "Create callbacks that specify how the app should respond to user interactions. For example, a callback might update a plot when a slider is moved.\n",
    "\n",
    "Set up a Bokeh server using the bokeh.server.server.Server class and add your application to it.\n",
    "\n",
    "Run the Bokeh server using the bokeh.server.server.Server.run_until_shutdown() method.\n",
    "\n",
    "Access the interactive app in a web browser by visiting the specified URL (usually something like http://localhost:5006/appname).\n",
    "\n",
    "Users can interact with the app, and the server will handle updates and data synchronization in real time.\n",
    "\n",
    "Example code for creating a simple Bokeh server application with a slider and a plot:"
   ]
  },
  {
   "cell_type": "code",
   "execution_count": 3,
   "id": "f110943e-102d-4eb1-a461-656859e98e8a",
   "metadata": {},
   "outputs": [],
   "source": [
    "from bokeh.io import curdoc\n",
    "from bokeh.layouts import column\n",
    "from bokeh.models import Slider, ColumnDataSource\n",
    "from bokeh.plotting import figure\n",
    "\n",
    "# Create a plot and data source\n",
    "source = ColumnDataSource(data={'x': [], 'y': []})\n",
    "plot = figure()\n",
    "plot.line('x', 'y', source=source)\n",
    "\n",
    "# Create a callback function to update the plot\n",
    "def update(attr, old, new):\n",
    "    x = source.data['x']\n",
    "    y = [val ** slider.value for val in x]\n",
    "    source.data = {'x': x, 'y': y}\n",
    "\n",
    "# Create a slider and link it to the update callback\n",
    "slider = Slider(start=1, end=10, step=1, value=1, title=\"Exponent\")\n",
    "slider.on_change('value', update)\n",
    "\n",
    "# Create the layout\n",
    "layout = column(slider, plot)\n",
    "\n",
    "# Add the layout to the current document\n",
    "curdoc().add_root(layout)\n"
   ]
  },
  {
   "cell_type": "code",
   "execution_count": null,
   "id": "481cd201-6b6f-49ac-a699-68fceb9b5568",
   "metadata": {},
   "outputs": [],
   "source": [
    "In this example, the Bokeh server application defines a simple plot with a slider. The slider's value is linked to a callback that updates the plot based on the slider's value. When the app is run using the Bokeh server, users can interact with the slider, and the plot updates in real time"
   ]
  },
  {
   "cell_type": "code",
   "execution_count": null,
   "id": "e6c32f14-3598-41ff-86e2-1b6cd4af6a1f",
   "metadata": {},
   "outputs": [],
   "source": [
    "Q5. How can you embed a Bokeh plot into a web page or dashboard using Flask or Django?"
   ]
  },
  {
   "cell_type": "code",
   "execution_count": null,
   "id": "5e625b88-8066-46a6-8253-878a5108fa87",
   "metadata": {},
   "outputs": [],
   "source": [
    "You can embed a Bokeh plot into a web page or dashboard created with Flask or Django by following these general steps:\n",
    "\n",
    "Using Flask:\n",
    "\n",
    "Install Bokeh: Make sure you have Bokeh installed in your Flask project. You can install it using pip install bokeh.\n",
    "\n",
    "Create a Bokeh Plot: Create the Bokeh plot using the Bokeh library as usual, as shown in previous examples.\n",
    "\n",
    "Export the Plot as HTML: Bokeh provides a bokeh.embed module that includes functions for embedding Bokeh plots in HTML documents. You can use the components function to generate the necessary JavaScript and HTML code for the plot."
   ]
  },
  {
   "cell_type": "code",
   "execution_count": null,
   "id": "e97f5075-0328-442f-8e68-fe9bb92115e9",
   "metadata": {},
   "outputs": [],
   "source": [
    "from bokeh.embed import components\n",
    "\n",
    "# Create the Bokeh plot (e.g., plot variable)\n",
    "# ...\n",
    "\n",
    "# Generate the JavaScript and HTML components\n",
    "script, div = components(plot)\n"
   ]
  },
  {
   "cell_type": "code",
   "execution_count": null,
   "id": "aea8e6bc-f34c-4ad4-ac41-0c492ed2a5ba",
   "metadata": {},
   "outputs": [],
   "source": [
    "Render the Plot in a Flask Template: In your Flask application, render a template that includes the JavaScript and HTML components generated in the previous step."
   ]
  },
  {
   "cell_type": "code",
   "execution_count": null,
   "id": "42c1aea2-0cca-4c2a-9fd1-a0cbff36f3ad",
   "metadata": {},
   "outputs": [],
   "source": [
    "from flask import Flask, render_template\n",
    "\n",
    "app = Flask(__name__)\n",
    "\n",
    "@app.route('/')\n",
    "def index():\n",
    "    return render_template('index.html', script=script, div=div)\n",
    "\n",
    "if __name__ == '__main__':\n",
    "    app.run(debug=True)\n"
   ]
  },
  {
   "cell_type": "code",
   "execution_count": null,
   "id": "59919a22-f1f2-4148-9392-07b444b65c94",
   "metadata": {},
   "outputs": [],
   "source": [
    "Create a Template (HTML): Create an HTML template (e.g., index.html) that defines where the Bokeh plot should be displayed. Use the div variable to specify the location of the plot's HTML."
   ]
  },
  {
   "cell_type": "code",
   "execution_count": null,
   "id": "1de58e89-e231-46fc-9270-17a56600fc7e",
   "metadata": {},
   "outputs": [],
   "source": [
    "<!DOCTYPE html>\n",
    "<html>\n",
    "<head>\n",
    "    <title>Bokeh Plot in Flask</title>\n",
    "    <!-- Include any necessary CSS or JavaScript libraries -->\n",
    "</head>\n",
    "<body>\n",
    "    <h1>My Bokeh Plot</h1>\n",
    "    {{ div | safe }}\n",
    "    {{ script | safe }}\n",
    "</body>\n",
    "</html>\n"
   ]
  },
  {
   "cell_type": "code",
   "execution_count": null,
   "id": "4bd2ccf8-82d0-4925-884a-b946c61439ee",
   "metadata": {},
   "outputs": [],
   "source": [
    "Run Your Flask Application: Start your Flask application using app.run().\n",
    "\n",
    "When you access the Flask application in your web browser, the Bokeh plot will be embedded and displayed within the HTML page.\n",
    "\n",
    "Using Django:\n",
    "\n",
    "Install Bokeh: Make sure you have Bokeh installed in your Django project. You can install it using pip install bokeh.\n",
    "\n",
    "Create a Bokeh Plot: Create the Bokeh plot using the Bokeh library as usual.\n",
    "\n",
    "Export the Plot as HTML: Use the components function to generate the JavaScript and HTML components for the plot, as shown earlier.\n",
    "\n",
    "Create a Django View: Create a Django view function that generates the plot components and renders a template."
   ]
  },
  {
   "cell_type": "code",
   "execution_count": null,
   "id": "5d99ee52-f4c9-432c-aeed-47a3eff707f3",
   "metadata": {},
   "outputs": [],
   "source": [
    "from django.shortcuts import render\n",
    "from bokeh.embed import components\n",
    "\n",
    "def bokeh_plot(request):\n",
    "    # Create the Bokeh plot (e.g., plot variable)\n",
    "    # ...\n",
    "\n",
    "    # Generate the JavaScript and HTML components\n",
    "    script, div = components(plot)\n",
    "\n",
    "    return render(request, 'bokeh_template.html', {'script': script, 'div': div})\n"
   ]
  },
  {
   "cell_type": "code",
   "execution_count": null,
   "id": "d2107ee5-6fec-4174-8922-047febc9c99c",
   "metadata": {},
   "outputs": [],
   "source": []
  },
  {
   "cell_type": "code",
   "execution_count": null,
   "id": "bab69d59-27da-404a-9e67-a97cdf9c421d",
   "metadata": {},
   "outputs": [],
   "source": []
  }
 ],
 "metadata": {
  "kernelspec": {
   "display_name": "Python 3 (ipykernel)",
   "language": "python",
   "name": "python3"
  },
  "language_info": {
   "codemirror_mode": {
    "name": "ipython",
    "version": 3
   },
   "file_extension": ".py",
   "mimetype": "text/x-python",
   "name": "python",
   "nbconvert_exporter": "python",
   "pygments_lexer": "ipython3",
   "version": "3.10.6"
  }
 },
 "nbformat": 4,
 "nbformat_minor": 5
}
